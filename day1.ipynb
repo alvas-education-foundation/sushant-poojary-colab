{
  "nbformat": 4,
  "nbformat_minor": 0,
  "metadata": {
    "colab": {
      "name": "day1.ipynb",
      "provenance": [],
      "authorship_tag": "ABX9TyM49c+0gBZc3ysWhnZg4V1L",
      "include_colab_link": true
    },
    "kernelspec": {
      "name": "python3",
      "display_name": "Python 3"
    }
  },
  "cells": [
    {
      "cell_type": "markdown",
      "metadata": {
        "id": "view-in-github",
        "colab_type": "text"
      },
      "source": [
        "<a href=\"https://colab.research.google.com/github/alvas-education-foundation/sushant-poojary-colab/blob/master/day1.ipynb\" target=\"_parent\"><img src=\"https://colab.research.google.com/assets/colab-badge.svg\" alt=\"Open In Colab\"/></a>"
      ]
    },
    {
      "cell_type": "code",
      "metadata": {
        "id": "GBDzbfCbzTUw",
        "colab_type": "code",
        "colab": {
          "base_uri": "https://localhost:8080/",
          "height": 85
        },
        "outputId": "fd57c045-6285-454e-8d2b-1699f9e9d9ff"
      },
      "source": [
        "#1. Find the compound interest for the given p,n,r  (formula : p(1+n*r/100)n )\n",
        "p=int(input('Enter the p value'))\n",
        "n=int(input('Enter the n value'))\n",
        "r=int(input('Enter the r value'))\n",
        "CI=p*(1+n*r/100)**n\n",
        "print(CI)"
      ],
      "execution_count": null,
      "outputs": [
        {
          "output_type": "stream",
          "text": [
            "Enter the p value500\n",
            "Enter the n value10\n",
            "Enter the r value8\n",
            "178523.36133120005\n"
          ],
          "name": "stdout"
        }
      ]
    },
    {
      "cell_type": "code",
      "metadata": {
        "id": "ZMdLx-An7ShA",
        "colab_type": "code",
        "colab": {
          "base_uri": "https://localhost:8080/",
          "height": 51
        },
        "outputId": "dd6165be-20b9-4dcb-fcf6-cc30c104c4cf"
      },
      "source": [
        "#2. Convert centegrade to farenheit  ( f= 9/5*c+32) \n",
        "c=float(input('Enter the of c'))\n",
        "f=float(9/5*c+32)\n",
        "print(f)"
      ],
      "execution_count": null,
      "outputs": [
        {
          "output_type": "stream",
          "text": [
            "Enter the of c60\n",
            "140.0\n"
          ],
          "name": "stdout"
        }
      ]
    },
    {
      "cell_type": "code",
      "metadata": {
        "id": "71PJR2tP7ifL",
        "colab_type": "code",
        "colab": {
          "base_uri": "https://localhost:8080/",
          "height": 68
        },
        "outputId": "d4b392d4-107b-427f-e7df-e4df6af02512"
      },
      "source": [
        "#3. Find the greater of two nos \n",
        "a=int(input('Enter the a value'))\n",
        "b=int(input('Enter the b value'))\n",
        "if(a>>b):\n",
        "    print('{0} is greater than {1}'.format(a,b))\n",
        "else:\n",
        "    print('{0} is greater than {1}'.format(b,a))"
      ],
      "execution_count": null,
      "outputs": [
        {
          "output_type": "stream",
          "text": [
            "Enter the a value5\n",
            "Enter the b value3\n",
            "3 is greater than 5\n"
          ],
          "name": "stdout"
        }
      ]
    },
    {
      "cell_type": "code",
      "metadata": {
        "id": "5ttSmS1X7vzU",
        "colab_type": "code",
        "colab": {
          "base_uri": "https://localhost:8080/",
          "height": 119
        },
        "outputId": "1b6c8b6c-06f0-4ca5-f9ac-0f10f5a0a04c"
      },
      "source": [
        "#4. Write a program for finding surface areas of cylinder and cone (2*PI*r*h, 1/3*PI*r*r*h) using function.\n",
        "def cy(r,h):\n",
        "    return 2*3.14*r*h\n",
        "\n",
        "def co(r,h):\n",
        "    return 1/3*3.14*r*r*h\n",
        "r=int(input('Enter the r value'))\n",
        "h=int(input('Enter the h value'))\n",
        "\n",
        "print('surface area of cylinder is')\n",
        "print(cy(r,h))\n",
        "\n",
        "print('surface area of cone is')\n",
        "print(co(r,h))\n",
        "\n"
      ],
      "execution_count": null,
      "outputs": [
        {
          "output_type": "stream",
          "text": [
            "Enter the r value5\n",
            "Enter the h value6\n",
            "surface area of cylinder is\n",
            "188.4\n",
            "surface area of cone is\n",
            "157.0\n"
          ],
          "name": "stdout"
        }
      ]
    },
    {
      "cell_type": "code",
      "metadata": {
        "id": "S3Z1_LLA75Hn",
        "colab_type": "code",
        "colab": {
          "base_uri": "https://localhost:8080/",
          "height": 119
        },
        "outputId": "ffc40ed3-a80d-44f1-b8c6-3fdfd39160b3"
      },
      "source": [
        "#5. Find the greatest of four nos (using and operator)   using function.\n",
        "def great(a,b,c,d):\n",
        "    if(a>=b and a>=c and a>=d):\n",
        "        return a\n",
        "    elif(b>=a and b>=c and b>=d):\n",
        "        return b\n",
        "    elif(c>=a and c>=b and c>=d):\n",
        "        return c\n",
        "    else:\n",
        "        return d\n",
        "a=int(input('Enter the 1st name '))\n",
        "b=int(input('Enter the 2nd name '))\n",
        "c=int(input('Enter the 3rd name '))\n",
        "d=int(input('Enter the 4th name '))\n",
        "print('greater no is ')\n",
        "print(great(a,b,c,d))\n"
      ],
      "execution_count": null,
      "outputs": [
        {
          "output_type": "stream",
          "text": [
            "Enter the 1st name 7\n",
            "Enter the 2nd name 8\n",
            "Enter the 3rd name 9\n",
            "Enter the 4th name 1\n",
            "greater no is \n",
            "9\n"
          ],
          "name": "stdout"
        }
      ]
    },
    {
      "cell_type": "code",
      "metadata": {
        "id": "fxlfLGVF8iRf",
        "colab_type": "code",
        "colab": {
          "base_uri": "https://localhost:8080/",
          "height": 170
        },
        "outputId": "3d93267b-307b-45d3-9266-f5d0446c7a52"
      },
      "source": [
        "#6.Write a  menu program to perform the operations ( ODDorEven, Factorial, ODDNoUptoN, PrimeUptoN ) using functions for two nos with  menu choice\n",
        "print (\"your options are:\")\n",
        "print(\"1 for ODDorEven\")\n",
        "print(\"2 for Factorial\")\n",
        "print (\"3 for ODDNoUptoN\")\n",
        "print (\"4 for PrimeUptoN\")\n",
        "print(\" \")\n",
        "\n",
        "choice=int(input(\"enter your choice : \"))\n",
        "if choice==1:                                            \n",
        "  num = int(input(\"Enter a number: \"))\n",
        "  if (num % 2) == 0:\n",
        "    print(\"{0} is Even\".format(num))\n",
        "  else:\n",
        "    print(\"{0} is Odd\".format(num))\n",
        "elif choice==2:                                           \n",
        "  num = int(input(\"enter the number : \"))\n",
        "  factorial = 1\n",
        "  if num>0:\n",
        "    for i in range(1,num + 1):\n",
        "      factorial = factorial*i\n",
        "      print(\"The factorial of\",num,\"is\",factorial)\n",
        "elif choice==3:                                           \n",
        "  maximum = int(input(\" Please Enter any Maximum Value : \"))\n",
        "  for number in range(1, maximum + 1):\n",
        "    if(number % 2 != 0):\n",
        "        print(\"{0}\".format(number))\n",
        "elif choice==4:  \n",
        "  N=int(input(\"enter the number : \"))                     \n",
        "  for Number in range (1, N+1):\n",
        "    count = 0\n",
        "    for i in range(2, (Number//2 + 1)):\n",
        "        if(Number % i == 0):\n",
        "            count = count + 1\n",
        "            break\n",
        "\n",
        "    if (count == 0 and Number != 1):\n",
        "        print(\" %d\" %Number, end = '  ')\n",
        "else:\n",
        "  print(\"no such options\") "
      ],
      "execution_count": 18,
      "outputs": [
        {
          "output_type": "stream",
          "text": [
            "your options are:\n",
            "1 for ODDorEven\n",
            "2 for Factorial\n",
            "3 for ODDNoUptoN\n",
            "4 for PrimeUptoN\n",
            " \n",
            "enter your choice : 4\n",
            "enter the number : 8\n",
            " 2   3   5   7  "
          ],
          "name": "stdout"
        }
      ]
    }
  ]
}