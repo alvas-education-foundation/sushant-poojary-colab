{
  "nbformat": 4,
  "nbformat_minor": 0,
  "metadata": {
    "colab": {
      "name": "‘Day 2 sesson 2 Exercise programs’.ipynb",
      "provenance": [],
      "collapsed_sections": [],
      "authorship_tag": "ABX9TyMO+blTgcE0xup3Z5tZMEsi",
      "include_colab_link": true
    },
    "kernelspec": {
      "name": "python3",
      "display_name": "Python 3"
    }
  },
  "cells": [
    {
      "cell_type": "markdown",
      "metadata": {
        "id": "view-in-github",
        "colab_type": "text"
      },
      "source": [
        "<a href=\"https://colab.research.google.com/github/alvas-education-foundation/sushant-poojary-colab/blob/master/%E2%80%98Day_2_sesson_2_Exercise_programs%E2%80%99.ipynb\" target=\"_parent\"><img src=\"https://colab.research.google.com/assets/colab-badge.svg\" alt=\"Open In Colab\"/></a>"
      ]
    },
    {
      "cell_type": "markdown",
      "metadata": {
        "id": "cTlb6oIemWp6",
        "colab_type": "text"
      },
      "source": [
        "Dictionary"
      ]
    },
    {
      "cell_type": "code",
      "metadata": {
        "id": "MbbYzLDFmh7l",
        "colab_type": "code",
        "colab": {
          "base_uri": "https://localhost:8080/",
          "height": 153
        },
        "outputId": "6f488bba-7bb3-439a-905f-680297e38357"
      },
      "source": [
        "#1. Add rollno and marks {name:mark} for n number of students through keyboard in a dictionary and print the marks in descending order with respective name.\n",
        "\n",
        "import operator\n",
        "a=int(input('Enter the no of student '))\n",
        "b={}\n",
        "for i in range (1,a+1):\n",
        "\tname=input('Enter the name %d '%(i))\n",
        "\tmarks=int(input('Enter the marks %d '%(i)))\n",
        "\tb[name]=marks\n",
        "\tsorted_b=sorted(b.items(),key=operator.itemgetter(1))\n",
        "\tsorted_b.reverse()\n",
        "print(sorted_b)\n"
      ],
      "execution_count": null,
      "outputs": [
        {
          "output_type": "stream",
          "text": [
            "Enter the no of student 3\n",
            "Enter the name 1 sushant\n",
            "Enter the marks 1 4000\n",
            "Enter the name 2 mirza\n",
            "Enter the marks 2 0000\n",
            "Enter the name 3 rakshith\n",
            "Enter the marks 3 3999\n",
            "[('sushant', 4000), ('rakshith', 3999), ('mirza', 0)]\n"
          ],
          "name": "stdout"
        }
      ]
    },
    {
      "cell_type": "code",
      "metadata": {
        "id": "2wYmyLlanDei",
        "colab_type": "code",
        "colab": {
          "base_uri": "https://localhost:8080/",
          "height": 153
        },
        "outputId": "92a29381-39ad-417d-de57-2e8f4fbdb088"
      },
      "source": [
        "#2. Add  name and salary {name:salary} for n number of employees through keyboard in a dictionary and print them in name alphabetical order with salary\n",
        "\n",
        "\n",
        "\n",
        "import operator\n",
        "a=int(input('Enter the no of employe '))\n",
        "b={}\n",
        "for i in range (1,a+1):\n",
        "\tname=input('Enter the name %d '%(i))\n",
        "\tsalary=int(input('Enter the salary %d '%(i)))\n",
        "\tb[name]=salary\n",
        "\tsorted_b=sorted(b.items(),key=operator.itemgetter(0))\n",
        "\t#sorted_b.reverse()\n",
        "print(sorted_b)\n"
      ],
      "execution_count": null,
      "outputs": [
        {
          "output_type": "stream",
          "text": [
            "Enter the no of employe 3\n",
            "Enter the name 1 sushant\n",
            "Enter the salary 1 50000\n",
            "Enter the name 2 rakshith\n",
            "Enter the salary 2 40000\n",
            "Enter the name 3 mirza\n",
            "Enter the salary 3 10000\n",
            "[('mirza', 10000), ('rakshith', 40000), ('sushant', 50000)]\n"
          ],
          "name": "stdout"
        }
      ]
    },
    {
      "cell_type": "code",
      "metadata": {
        "id": "5wtO0u8PnVFv",
        "colab_type": "code",
        "colab": {
          "base_uri": "https://localhost:8080/",
          "height": 238
        },
        "outputId": "ef6fb700-df47-4ab3-c8cc-a32ed699401d"
      },
      "source": [
        "#3. Add  name and salary {name:salary} for n number of employees through keyboard in a dictionary and print them in salary  ascending order and  sum, max, min and average of the salaries\n",
        "\n",
        "import operator\n",
        "n=int(input(\"enter the no of employee : \"))\n",
        "d={}\n",
        "for i in range(n):\n",
        "\tname=input(\"enter the name of the employee : \")\n",
        "\tsalary=int(input(\"enter the salary of the employee : \"))\n",
        "\td[name]=salary\n",
        "print(d)\n",
        "a=sorted(d.items(),key=operator.itemgetter(0))\n",
        "print(a)\n",
        "print(\"sum of salary : \",sum(d.values()))\n",
        "print (\"max salary is : \",max(d.values()))\n",
        "print (\"min salary is : \",min(d.values()))\n",
        "print (\"avg of salary is : \",(sum(d.values()))//n)\n"
      ],
      "execution_count": null,
      "outputs": [
        {
          "output_type": "stream",
          "text": [
            "enter the no of employee : 3\n",
            "enter the name of the employee : sushant\n",
            "enter the salary of the employee : 50000\n",
            "enter the name of the employee : rakshith\n",
            "enter the salary of the employee : 40000\n",
            "enter the name of the employee : mirza\n",
            "enter the salary of the employee : 10000\n",
            "{'sushant': 50000, 'rakshith': 40000, 'mirza': 10000}\n",
            "[('mirza', 10000), ('rakshith', 40000), ('sushant', 50000)]\n",
            "sum of salary :  100000\n",
            "max salary is :  50000\n",
            "min salary is :  10000\n",
            "avg of salary is :  33333\n"
          ],
          "name": "stdout"
        }
      ]
    },
    {
      "cell_type": "code",
      "metadata": {
        "id": "dQ3HEStLnjc5",
        "colab_type": "code",
        "colab": {
          "base_uri": "https://localhost:8080/",
          "height": 170
        },
        "outputId": "93719575-e05a-4221-fb54-7eaaa7825b4f"
      },
      "source": [
        "#4. Add name and salary {name:salary} for n number of employees through keyboard in a dictionary and print only the employees whose salary is greater than 2000 but less than 4000\n",
        "a=int(input('Enter the no of employe '))\n",
        "b={}\n",
        "for i in range (1,a+1):\n",
        "\tname=input('Enter the name %d '%(i))\n",
        "\tsalary=int(input('Enter the salary %d '%(i)))\n",
        "\tb[name]=salary\n",
        "print(b)\n",
        "sorted_b=sorted(b.items(),key=operator.itemgetter(0))\n",
        "d={x:y for (x,y)in b.items()if ((y>=2000) & (y<=4000))}\n",
        "print(d)\n"
      ],
      "execution_count": null,
      "outputs": [
        {
          "output_type": "stream",
          "text": [
            "Enter the no of employe 3\n",
            "Enter the name 1 sushant\n",
            "Enter the salary 1 4000\n",
            "Enter the name 2 rakshith\n",
            "Enter the salary 2 3900\n",
            "Enter the name 3 mirza\n",
            "Enter the salary 3 1999\n",
            "{'sushant': 4000, 'rakshith': 3900, 'mirza': 1999}\n",
            "{'sushant': 4000, 'rakshith': 3900}\n"
          ],
          "name": "stdout"
        }
      ]
    },
    {
      "cell_type": "code",
      "metadata": {
        "id": "dGMxzPBQohRC",
        "colab_type": "code",
        "colab": {
          "base_uri": "https://localhost:8080/",
          "height": 51
        },
        "outputId": "ea90461c-5070-457c-e15e-a8210c25bd7f"
      },
      "source": [
        "#5. Python program to convert a 3 digit number  into words\n",
        "\n",
        "\n",
        "d={0:'',1:'one',2:'two',3:'three',4:'four',5:'five',6:'six',7:'seven',8:'eight',9:'nine',\\\n",
        "   10:'ten',11:'eleven',12:'twelve',13:'thirteen',14:'fourteen',15:'fifteen',16:'sixteen',\\\n",
        "   17:'seventeen',18:'eightteen',19:'nineteen',20:'twenty',30:'thirty',40:'fourty',50:'fifty',\\\n",
        "   60:'sixty',70:'seventy',80:'eighty',90:'ninty',\\\n",
        "  100:'hundred',200:'two hundred',300:'three hundred',400:'four hundred',\\\n",
        "  500:'five hundred',600:'sic hundred',700:'seven hundred',\\\n",
        "  800:'eight hundred',900:'nine hundred'}\n",
        "\n",
        "num=int(input(\"Enter the integer between 1 to 999:\"))\n",
        "if (num<=20):\n",
        "  \tprint(d[num])\n",
        "if(num>20 and num<100):\n",
        "    \tif num%10==0:  \t \n",
        "        \tprint(d[num])\n",
        "    \telse:\n",
        "        \tprint(d[num//10*10]+\" \"+d[num%10])\n",
        "if(num>99 and num<1000):\n",
        "    \tif num%100==0:  \t \n",
        "        \tprint(d[num])\n",
        "    \telse:\n",
        "        \tprint(d[num//100*100]+\" \"+\"and\"+\" \"+d[num%100//10*10]+\" \"+d[num%10])\n"
      ],
      "execution_count": null,
      "outputs": [
        {
          "output_type": "stream",
          "text": [
            "Enter the integer between 1 to 999:555\n",
            "five hundred and fifty five\n"
          ],
          "name": "stdout"
        }
      ]
    }
  ]
}