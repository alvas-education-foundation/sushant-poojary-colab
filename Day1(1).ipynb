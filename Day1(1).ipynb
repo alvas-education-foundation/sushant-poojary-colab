{
  "nbformat": 4,
  "nbformat_minor": 0,
  "metadata": {
    "colab": {
      "name": "Day1(1).ipynb",
      "provenance": [],
      "collapsed_sections": [],
      "authorship_tag": "ABX9TyPHFkacJtDDmhGhsyPfr2v+",
      "include_colab_link": true
    },
    "kernelspec": {
      "name": "python3",
      "display_name": "Python 3"
    }
  },
  "cells": [
    {
      "cell_type": "markdown",
      "metadata": {
        "id": "view-in-github",
        "colab_type": "text"
      },
      "source": [
        "<a href=\"https://colab.research.google.com/github/alvas-education-foundation/sushant-poojary-colab/blob/master/Day1(1).ipynb\" target=\"_parent\"><img src=\"https://colab.research.google.com/assets/colab-badge.svg\" alt=\"Open In Colab\"/></a>"
      ]
    },
    {
      "cell_type": "code",
      "metadata": {
        "id": "XCETyToc66zY",
        "colab_type": "code",
        "colab": {
          "base_uri": "https://localhost:8080/",
          "height": 85
        },
        "outputId": "5b9e5a03-c169-4ea5-fdee-608b7b16754c"
      },
      "source": [
        "#1 Write a program to print the triangle  i/p  4\n",
        "n=4\n",
        "num=1\n",
        "for i in range(n):\n",
        "    for j in range(i):\n",
        "        print('{0} ' .format(num), end=\"  \")\n",
        "        num=num+1\n",
        "    print('   ')"
      ],
      "execution_count": 31,
      "outputs": [
        {
          "output_type": "stream",
          "text": [
            "   \n",
            "1      \n",
            "2   3      \n",
            "4   5   6      \n"
          ],
          "name": "stdout"
        }
      ]
    },
    {
      "cell_type": "code",
      "metadata": {
        "id": "VPkyYwc69kJM",
        "colab_type": "code",
        "colab": {
          "base_uri": "https://localhost:8080/",
          "height": 85
        },
        "outputId": "57a821b9-5542-4f98-cd90-5057600eff1c"
      },
      "source": [
        "#2 Enter number 4\n",
        "n=4;\n",
        "for i in range(n):\n",
        "    for j in range(i+1):\n",
        "        print ('* ', end=\"\")\n",
        "    print('')"
      ],
      "execution_count": null,
      "outputs": [
        {
          "output_type": "stream",
          "text": [
            "* \n",
            "* * \n",
            "* * * \n",
            "* * * * \n"
          ],
          "name": "stdout"
        }
      ]
    },
    {
      "cell_type": "code",
      "metadata": {
        "id": "hksdsGn39ol1",
        "colab_type": "code",
        "colab": {
          "base_uri": "https://localhost:8080/",
          "height": 85
        },
        "outputId": "2830f5ee-6191-49e5-f6ca-77e3f1a4f609"
      },
      "source": [
        "#3 Enter number 5\n",
        "n=4;\n",
        "for i in range(n,0,-1):\n",
        "    for j in range(i):\n",
        "        print('{0} '.format(i-j), end=\"\")\n",
        "    print('')\n"
      ],
      "execution_count": 42,
      "outputs": [
        {
          "output_type": "stream",
          "text": [
            "4 3 2 1 \n",
            "3 2 1 \n",
            "2 1 \n",
            "1 \n"
          ],
          "name": "stdout"
        }
      ]
    },
    {
      "cell_type": "code",
      "metadata": {
        "id": "F9KU_uc19p6d",
        "colab_type": "code",
        "colab": {
          "base_uri": "https://localhost:8080/",
          "height": 102
        },
        "outputId": "2f1a2e68-a4f0-4b56-ab52-36a910e0e8b5"
      },
      "source": [
        "#4 Enter number 5\n",
        "n=5;\n",
        "for i in range(n,0,-1):\n",
        "    for j in range(i):\n",
        "        print('{0} '.format(i-j), end=\"\")\n",
        "    print('')"
      ],
      "execution_count": null,
      "outputs": [
        {
          "output_type": "stream",
          "text": [
            "5 4 3 2 1 \n",
            "4 3 2 1 \n",
            "3 2 1 \n",
            "2 1 \n",
            "1 \n"
          ],
          "name": "stdout"
        }
      ]
    },
    {
      "cell_type": "code",
      "metadata": {
        "id": "bx5xRRsC9tjy",
        "colab_type": "code",
        "colab": {
          "base_uri": "https://localhost:8080/",
          "height": 51
        },
        "outputId": "2e9e7274-2716-4601-c595-cd3694c86f7d"
      },
      "source": [
        "#6  Find the length of a string without using len functions\n",
        "str = input(\"Enter a string: \")\n",
        "counter = 0\n",
        "for s in str:\n",
        "      counter = counter+1\n",
        "print(\"Length of the input string is:\", counter)"
      ],
      "execution_count": null,
      "outputs": [
        {
          "output_type": "stream",
          "text": [
            "Enter a string: sushant poojary\n",
            "Length of the input string is: 15\n"
          ],
          "name": "stdout"
        }
      ]
    },
    {
      "cell_type": "code",
      "metadata": {
        "id": "32zwpy299umq",
        "colab_type": "code",
        "colab": {
          "base_uri": "https://localhost:8080/",
          "height": 34
        },
        "outputId": "a3318e69-ea2c-46d5-fe97-fcc564022ffe"
      },
      "source": [
        "#7  Find the no of words and characters in a string\n",
        "def char_frequency(str1):\n",
        "    dict = {}\n",
        "    for n in str1:\n",
        "        keys = dict.keys()\n",
        "        if n in keys:\n",
        "            dict[n] += 1\n",
        "        else:\n",
        "            dict[n] = 1\n",
        "    return dict\n",
        "print(char_frequency('google.com'))"
      ],
      "execution_count": null,
      "outputs": [
        {
          "output_type": "stream",
          "text": [
            "{'g': 2, 'o': 3, 'l': 1, 'e': 1, '.': 1, 'c': 1, 'm': 1}\n"
          ],
          "name": "stdout"
        }
      ]
    },
    {
      "cell_type": "code",
      "metadata": {
        "id": "PTp2uubI9viH",
        "colab_type": "code",
        "colab": {
          "base_uri": "https://localhost:8080/",
          "height": 34
        },
        "outputId": "f3f1f573-fcf3-4144-9ca6-9232da41b38d"
      },
      "source": [
        "# 8 Find the no of occurrences of a word in a string\n",
        "def word_count(str):\n",
        "    counts = dict()\n",
        "    words = str.split()\n",
        "\n",
        "    for word in words:\n",
        "        if word in counts:\n",
        "            counts[word] += 1\n",
        "        else:\n",
        "            counts[word] = 1\n",
        "\n",
        "    return counts\n",
        "\n",
        "print( word_count('the quick brown fox jumps over the lazy dog.'))"
      ],
      "execution_count": null,
      "outputs": [
        {
          "output_type": "stream",
          "text": [
            "{'the': 2, 'quick': 1, 'brown': 1, 'fox': 1, 'jumps': 1, 'over': 1, 'lazy': 1, 'dog.': 1}\n"
          ],
          "name": "stdout"
        }
      ]
    }
  ]
}